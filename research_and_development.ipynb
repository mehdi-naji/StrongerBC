{
 "cells": [
  {
   "cell_type": "code",
   "execution_count": 5,
   "metadata": {},
   "outputs": [],
   "source": [
    "import pandas as pd\n",
    "import dash\n",
    "import dash_core_components as dcc\n",
    "import dash_html_components as html\n",
    "from dash.dependencies import Input, Output\n",
    "import plotly.express as px\n",
    "import plotly.graph_objects as go"
   ]
  },
  {
   "cell_type": "markdown",
   "metadata": {},
   "source": [
    "# Research and Development\n",
    "\n",
    "Research and development (R&D) are crucial for driving innovation, creating high-quality jobs, and building a sustainable, low-carbon economy. Recognizing this, the provincial government has developed the StrongerBC plan, which sets out a vision for strengthening R&D in B.C."
   ]
  },
  {
   "cell_type": "code",
   "execution_count": 6,
   "metadata": {},
   "outputs": [
    {
     "data": {
      "text/html": [
       "\n",
       "        <iframe\n",
       "            width=\"100%\"\n",
       "            height=\"650\"\n",
       "            src=\"http://127.0.0.1:8050/\"\n",
       "            frameborder=\"0\"\n",
       "            allowfullscreen\n",
       "            \n",
       "        ></iframe>\n",
       "        "
      ],
      "text/plain": [
       "<IPython.lib.display.IFrame at 0x1e7cc8374c0>"
      ]
     },
     "metadata": {},
     "output_type": "display_data"
    }
   ],
   "source": [
    "\n",
    "df1 = pd.read_csv(\"~/strongerbc/data/research_and_development_1.csv\")\n",
    "df = df1[df1['Year'] >= 2000]\n",
    "app = dash.Dash(__name__)\n",
    "\n",
    "# Labels and Steps of Year Range\n",
    "labels = {str(year): str(year) for year in range(df['Year'].min(), df['Year'].max() + 1 , 5)}\n",
    "steps = {str(year): '' for year in range(df['Year'].min(), df['Year'].max() + 1)}\n",
    "marks = {**steps, **labels}\n",
    "\n",
    "\n",
    "app.layout = html.Div([\n",
    "    html.Div([\n",
    "        dcc.Graph(id='value-graph')\n",
    "    ], style={'width': '100%', 'display': 'inline-block'}),\n",
    "    html.Div([\n",
    "        dcc.RangeSlider(\n",
    "            id='year-slider',\n",
    "            min=df['Year'].min(),\n",
    "            max=df['Year'].max(),\n",
    "            value=[df['Year'].min(), df['Year'].max()],\n",
    "            marks=marks,\n",
    "            step=None\n",
    "        ),\n",
    "        dcc.Dropdown(\n",
    "            id='geo-dropdown',\n",
    "            options=[{'label': i, 'value': i} for i in df['GEO'].unique()],\n",
    "            value=df['GEO'].unique()[0]\n",
    "        ),\n",
    "        dcc.Dropdown(\n",
    "            id='Funder-dropdown',\n",
    "            options=[{'label': i, 'value': i} for i in df['Funder'].unique()],\n",
    "            value=df['Funder'].unique()[0]\n",
    "        ),\n",
    "        dcc.Dropdown(\n",
    "            id='Performer-dropdown',\n",
    "            options=[{'label': i, 'value': i} for i in df['Performer'].unique()],\n",
    "            value=df['Performer'].unique()[0]\n",
    "        ),\n",
    "        dcc.Dropdown(\n",
    "            id='ScienceType-dropdown',\n",
    "            options=[{'label': i, 'value': i} for i in df['Science type'].unique()],\n",
    "            value=df['Science type'].unique()[0]\n",
    "        ),\n",
    "        dcc.Dropdown(\n",
    "            id='Prices-dropdown',\n",
    "            options=[{'label': i, 'value': i} for i in df['Prices'].unique()],\n",
    "            value=df['Prices'].unique()[0]\n",
    "        )\n",
    "    ], style={'width': '100%', 'display': 'inline-block'}),\n",
    "])\n",
    "\n",
    "@app.callback(\n",
    "    Output('value-graph', 'figure'),\n",
    "    [Input('year-slider', 'value'),\n",
    "     Input('geo-dropdown', 'value'),\n",
    "     Input('Funder-dropdown', 'value'),\n",
    "     Input('Performer-dropdown', 'value'),\n",
    "     Input('ScienceType-dropdown', 'value'),\n",
    "     Input('Prices-dropdown', 'value')],\n",
    ")\n",
    "def update_graph(year_range, geo_value, Funder_value, Performer_value, ScienceType_value, Prices_value):\n",
    "    dff = df[(df['Year'] >= year_range[0]) & \n",
    "             (df['Year'] <= year_range[1]) & \n",
    "             (df['GEO'] == geo_value)      & \n",
    "             (df['Funder'] == Funder_value)&\n",
    "             (df['Performer'] == Performer_value) &\n",
    "             (df['Science type'] == ScienceType_value) &\n",
    "             (df['Prices'] == Prices_value)]\n",
    "\n",
    "    fig = px.line(dff, x=\"Year\", y=\"VALUE\", title='Investment in Innovation', template='plotly_white')\n",
    "    fig.update_traces(mode='markers+lines')\n",
    "    fig.update_yaxes(title_text=f'{Prices_value} (in millions $ )')\n",
    "    fig.update_layout(\n",
    "    title={\n",
    "        'text': \"Trends in Innovation Investment\",\n",
    "        'y':0.9,\n",
    "        'x':0.5,\n",
    "        'xanchor': 'center',\n",
    "        'yanchor': 'top'})\n",
    "\n",
    "    return fig\n",
    "\n",
    "if __name__ == '__main__':\n",
    "    app.run_server(debug=True)"
   ]
  }
 ],
 "metadata": {
  "kernelspec": {
   "display_name": "573",
   "language": "python",
   "name": "python3"
  },
  "language_info": {
   "codemirror_mode": {
    "name": "ipython",
    "version": 3
   },
   "file_extension": ".py",
   "mimetype": "text/x-python",
   "name": "python",
   "nbconvert_exporter": "python",
   "pygments_lexer": "ipython3",
   "version": "3.10.12"
  }
 },
 "nbformat": 4,
 "nbformat_minor": 2
}
